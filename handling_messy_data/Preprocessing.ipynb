{
 "cells": [
  {
   "cell_type": "markdown",
   "metadata": {},
   "source": [
    "<div style=\"display:float\">\n",
    "  <h1 style=\"margin-top: 36px; font-size: 32px; float:left\">Sklearn: Dealing with Messy Data</h1>\n",
    "  <img style=\"vertical-align:middle; float:right\" src=\"http://gntlearning.com/wp-content/uploads/2021/05/Small_Logo-278x64.jpg\" width=250px>\n",
    "</div>"
   ]
  },
  {
   "cell_type": "markdown",
   "metadata": {
    "collapsed": true
   },
   "source": [
    "Data:\n",
    "https://www.kaggle.com/c/house-prices-advanced-regression-techniques/data"
   ]
  },
  {
   "cell_type": "code",
   "execution_count": null,
   "metadata": {
    "collapsed": false
   },
   "outputs": [],
   "source": [
    "import pandas as pd\n",
    "import numpy as np\n",
    "import matplotlib.pyplot as plt\n",
    "\n",
    "from sklearn.preprocessing import OrdinalEncoder, OneHotEncoder, LabelEncoder\n",
    "from sklearn.preprocessing import StandardScaler, MinMaxScaler\n",
    "\n",
    "from sklearn.linear_model import Lasso"
   ]
  },
  {
   "cell_type": "markdown",
   "metadata": {},
   "source": [
    "## Investigate Data"
   ]
  },
  {
   "cell_type": "code",
   "execution_count": null,
   "metadata": {
    "collapsed": false
   },
   "outputs": [
    {
     "data": {
      "text/html": [
       "<div>\n",
       "<style scoped>\n",
       "    .dataframe tbody tr th:only-of-type {\n",
       "        vertical-align: middle;\n",
       "    }\n",
       "\n",
       "    .dataframe tbody tr th {\n",
       "        vertical-align: top;\n",
       "    }\n",
       "\n",
       "    .dataframe thead th {\n",
       "        text-align: right;\n",
       "    }\n",
       "</style>\n",
       "<table border=\"1\" class=\"dataframe\">\n",
       "  <thead>\n",
       "    <tr style=\"text-align: right;\">\n",
       "      <th></th>\n",
       "      <th>Id</th>\n",
       "      <th>MSSubClass</th>\n",
       "      <th>MSZoning</th>\n",
       "      <th>LotFrontage</th>\n",
       "      <th>LotArea</th>\n",
       "      <th>Street</th>\n",
       "      <th>Alley</th>\n",
       "      <th>LotShape</th>\n",
       "      <th>LandContour</th>\n",
       "      <th>Utilities</th>\n",
       "      <th>...</th>\n",
       "      <th>PoolArea</th>\n",
       "      <th>PoolQC</th>\n",
       "      <th>Fence</th>\n",
       "      <th>MiscFeature</th>\n",
       "      <th>MiscVal</th>\n",
       "      <th>MoSold</th>\n",
       "      <th>YrSold</th>\n",
       "      <th>SaleType</th>\n",
       "      <th>SaleCondition</th>\n",
       "      <th>SalePrice</th>\n",
       "    </tr>\n",
       "  </thead>\n",
       "  <tbody>\n",
       "    <tr>\n",
       "      <th>0</th>\n",
       "      <td>1</td>\n",
       "      <td>60</td>\n",
       "      <td>RL</td>\n",
       "      <td>65.0</td>\n",
       "      <td>8450</td>\n",
       "      <td>Pave</td>\n",
       "      <td>NaN</td>\n",
       "      <td>Reg</td>\n",
       "      <td>Lvl</td>\n",
       "      <td>AllPub</td>\n",
       "      <td>...</td>\n",
       "      <td>0</td>\n",
       "      <td>NaN</td>\n",
       "      <td>NaN</td>\n",
       "      <td>NaN</td>\n",
       "      <td>0</td>\n",
       "      <td>2</td>\n",
       "      <td>2008</td>\n",
       "      <td>WD</td>\n",
       "      <td>Normal</td>\n",
       "      <td>208500</td>\n",
       "    </tr>\n",
       "    <tr>\n",
       "      <th>1</th>\n",
       "      <td>2</td>\n",
       "      <td>20</td>\n",
       "      <td>RL</td>\n",
       "      <td>80.0</td>\n",
       "      <td>9600</td>\n",
       "      <td>Pave</td>\n",
       "      <td>NaN</td>\n",
       "      <td>Reg</td>\n",
       "      <td>Lvl</td>\n",
       "      <td>AllPub</td>\n",
       "      <td>...</td>\n",
       "      <td>0</td>\n",
       "      <td>NaN</td>\n",
       "      <td>NaN</td>\n",
       "      <td>NaN</td>\n",
       "      <td>0</td>\n",
       "      <td>5</td>\n",
       "      <td>2007</td>\n",
       "      <td>WD</td>\n",
       "      <td>Normal</td>\n",
       "      <td>181500</td>\n",
       "    </tr>\n",
       "    <tr>\n",
       "      <th>2</th>\n",
       "      <td>3</td>\n",
       "      <td>60</td>\n",
       "      <td>RL</td>\n",
       "      <td>68.0</td>\n",
       "      <td>11250</td>\n",
       "      <td>Pave</td>\n",
       "      <td>NaN</td>\n",
       "      <td>IR1</td>\n",
       "      <td>Lvl</td>\n",
       "      <td>AllPub</td>\n",
       "      <td>...</td>\n",
       "      <td>0</td>\n",
       "      <td>NaN</td>\n",
       "      <td>NaN</td>\n",
       "      <td>NaN</td>\n",
       "      <td>0</td>\n",
       "      <td>9</td>\n",
       "      <td>2008</td>\n",
       "      <td>WD</td>\n",
       "      <td>Normal</td>\n",
       "      <td>223500</td>\n",
       "    </tr>\n",
       "    <tr>\n",
       "      <th>3</th>\n",
       "      <td>4</td>\n",
       "      <td>70</td>\n",
       "      <td>RL</td>\n",
       "      <td>60.0</td>\n",
       "      <td>9550</td>\n",
       "      <td>Pave</td>\n",
       "      <td>NaN</td>\n",
       "      <td>IR1</td>\n",
       "      <td>Lvl</td>\n",
       "      <td>AllPub</td>\n",
       "      <td>...</td>\n",
       "      <td>0</td>\n",
       "      <td>NaN</td>\n",
       "      <td>NaN</td>\n",
       "      <td>NaN</td>\n",
       "      <td>0</td>\n",
       "      <td>2</td>\n",
       "      <td>2006</td>\n",
       "      <td>WD</td>\n",
       "      <td>Abnorml</td>\n",
       "      <td>140000</td>\n",
       "    </tr>\n",
       "    <tr>\n",
       "      <th>4</th>\n",
       "      <td>5</td>\n",
       "      <td>60</td>\n",
       "      <td>RL</td>\n",
       "      <td>84.0</td>\n",
       "      <td>14260</td>\n",
       "      <td>Pave</td>\n",
       "      <td>NaN</td>\n",
       "      <td>IR1</td>\n",
       "      <td>Lvl</td>\n",
       "      <td>AllPub</td>\n",
       "      <td>...</td>\n",
       "      <td>0</td>\n",
       "      <td>NaN</td>\n",
       "      <td>NaN</td>\n",
       "      <td>NaN</td>\n",
       "      <td>0</td>\n",
       "      <td>12</td>\n",
       "      <td>2008</td>\n",
       "      <td>WD</td>\n",
       "      <td>Normal</td>\n",
       "      <td>250000</td>\n",
       "    </tr>\n",
       "    <tr>\n",
       "      <th>...</th>\n",
       "      <td>...</td>\n",
       "      <td>...</td>\n",
       "      <td>...</td>\n",
       "      <td>...</td>\n",
       "      <td>...</td>\n",
       "      <td>...</td>\n",
       "      <td>...</td>\n",
       "      <td>...</td>\n",
       "      <td>...</td>\n",
       "      <td>...</td>\n",
       "      <td>...</td>\n",
       "      <td>...</td>\n",
       "      <td>...</td>\n",
       "      <td>...</td>\n",
       "      <td>...</td>\n",
       "      <td>...</td>\n",
       "      <td>...</td>\n",
       "      <td>...</td>\n",
       "      <td>...</td>\n",
       "      <td>...</td>\n",
       "      <td>...</td>\n",
       "    </tr>\n",
       "    <tr>\n",
       "      <th>1455</th>\n",
       "      <td>1456</td>\n",
       "      <td>60</td>\n",
       "      <td>RL</td>\n",
       "      <td>62.0</td>\n",
       "      <td>7917</td>\n",
       "      <td>Pave</td>\n",
       "      <td>NaN</td>\n",
       "      <td>Reg</td>\n",
       "      <td>Lvl</td>\n",
       "      <td>AllPub</td>\n",
       "      <td>...</td>\n",
       "      <td>0</td>\n",
       "      <td>NaN</td>\n",
       "      <td>NaN</td>\n",
       "      <td>NaN</td>\n",
       "      <td>0</td>\n",
       "      <td>8</td>\n",
       "      <td>2007</td>\n",
       "      <td>WD</td>\n",
       "      <td>Normal</td>\n",
       "      <td>175000</td>\n",
       "    </tr>\n",
       "    <tr>\n",
       "      <th>1456</th>\n",
       "      <td>1457</td>\n",
       "      <td>20</td>\n",
       "      <td>RL</td>\n",
       "      <td>85.0</td>\n",
       "      <td>13175</td>\n",
       "      <td>Pave</td>\n",
       "      <td>NaN</td>\n",
       "      <td>Reg</td>\n",
       "      <td>Lvl</td>\n",
       "      <td>AllPub</td>\n",
       "      <td>...</td>\n",
       "      <td>0</td>\n",
       "      <td>NaN</td>\n",
       "      <td>MnPrv</td>\n",
       "      <td>NaN</td>\n",
       "      <td>0</td>\n",
       "      <td>2</td>\n",
       "      <td>2010</td>\n",
       "      <td>WD</td>\n",
       "      <td>Normal</td>\n",
       "      <td>210000</td>\n",
       "    </tr>\n",
       "    <tr>\n",
       "      <th>1457</th>\n",
       "      <td>1458</td>\n",
       "      <td>70</td>\n",
       "      <td>RL</td>\n",
       "      <td>66.0</td>\n",
       "      <td>9042</td>\n",
       "      <td>Pave</td>\n",
       "      <td>NaN</td>\n",
       "      <td>Reg</td>\n",
       "      <td>Lvl</td>\n",
       "      <td>AllPub</td>\n",
       "      <td>...</td>\n",
       "      <td>0</td>\n",
       "      <td>NaN</td>\n",
       "      <td>GdPrv</td>\n",
       "      <td>Shed</td>\n",
       "      <td>2500</td>\n",
       "      <td>5</td>\n",
       "      <td>2010</td>\n",
       "      <td>WD</td>\n",
       "      <td>Normal</td>\n",
       "      <td>266500</td>\n",
       "    </tr>\n",
       "    <tr>\n",
       "      <th>1458</th>\n",
       "      <td>1459</td>\n",
       "      <td>20</td>\n",
       "      <td>RL</td>\n",
       "      <td>68.0</td>\n",
       "      <td>9717</td>\n",
       "      <td>Pave</td>\n",
       "      <td>NaN</td>\n",
       "      <td>Reg</td>\n",
       "      <td>Lvl</td>\n",
       "      <td>AllPub</td>\n",
       "      <td>...</td>\n",
       "      <td>0</td>\n",
       "      <td>NaN</td>\n",
       "      <td>NaN</td>\n",
       "      <td>NaN</td>\n",
       "      <td>0</td>\n",
       "      <td>4</td>\n",
       "      <td>2010</td>\n",
       "      <td>WD</td>\n",
       "      <td>Normal</td>\n",
       "      <td>142125</td>\n",
       "    </tr>\n",
       "    <tr>\n",
       "      <th>1459</th>\n",
       "      <td>1460</td>\n",
       "      <td>20</td>\n",
       "      <td>RL</td>\n",
       "      <td>75.0</td>\n",
       "      <td>9937</td>\n",
       "      <td>Pave</td>\n",
       "      <td>NaN</td>\n",
       "      <td>Reg</td>\n",
       "      <td>Lvl</td>\n",
       "      <td>AllPub</td>\n",
       "      <td>...</td>\n",
       "      <td>0</td>\n",
       "      <td>NaN</td>\n",
       "      <td>NaN</td>\n",
       "      <td>NaN</td>\n",
       "      <td>0</td>\n",
       "      <td>6</td>\n",
       "      <td>2008</td>\n",
       "      <td>WD</td>\n",
       "      <td>Normal</td>\n",
       "      <td>147500</td>\n",
       "    </tr>\n",
       "  </tbody>\n",
       "</table>\n",
       "<p>1460 rows × 81 columns</p>\n",
       "</div>"
      ],
      "text/plain": [
       "        Id  MSSubClass MSZoning  LotFrontage  LotArea Street Alley LotShape  \\\n",
       "0        1          60       RL         65.0     8450   Pave   NaN      Reg   \n",
       "1        2          20       RL         80.0     9600   Pave   NaN      Reg   \n",
       "2        3          60       RL         68.0    11250   Pave   NaN      IR1   \n",
       "3        4          70       RL         60.0     9550   Pave   NaN      IR1   \n",
       "4        5          60       RL         84.0    14260   Pave   NaN      IR1   \n",
       "...    ...         ...      ...          ...      ...    ...   ...      ...   \n",
       "1455  1456          60       RL         62.0     7917   Pave   NaN      Reg   \n",
       "1456  1457          20       RL         85.0    13175   Pave   NaN      Reg   \n",
       "1457  1458          70       RL         66.0     9042   Pave   NaN      Reg   \n",
       "1458  1459          20       RL         68.0     9717   Pave   NaN      Reg   \n",
       "1459  1460          20       RL         75.0     9937   Pave   NaN      Reg   \n",
       "\n",
       "     LandContour Utilities  ... PoolArea PoolQC  Fence MiscFeature MiscVal  \\\n",
       "0            Lvl    AllPub  ...        0    NaN    NaN         NaN       0   \n",
       "1            Lvl    AllPub  ...        0    NaN    NaN         NaN       0   \n",
       "2            Lvl    AllPub  ...        0    NaN    NaN         NaN       0   \n",
       "3            Lvl    AllPub  ...        0    NaN    NaN         NaN       0   \n",
       "4            Lvl    AllPub  ...        0    NaN    NaN         NaN       0   \n",
       "...          ...       ...  ...      ...    ...    ...         ...     ...   \n",
       "1455         Lvl    AllPub  ...        0    NaN    NaN         NaN       0   \n",
       "1456         Lvl    AllPub  ...        0    NaN  MnPrv         NaN       0   \n",
       "1457         Lvl    AllPub  ...        0    NaN  GdPrv        Shed    2500   \n",
       "1458         Lvl    AllPub  ...        0    NaN    NaN         NaN       0   \n",
       "1459         Lvl    AllPub  ...        0    NaN    NaN         NaN       0   \n",
       "\n",
       "     MoSold YrSold  SaleType  SaleCondition  SalePrice  \n",
       "0         2   2008        WD         Normal     208500  \n",
       "1         5   2007        WD         Normal     181500  \n",
       "2         9   2008        WD         Normal     223500  \n",
       "3         2   2006        WD        Abnorml     140000  \n",
       "4        12   2008        WD         Normal     250000  \n",
       "...     ...    ...       ...            ...        ...  \n",
       "1455      8   2007        WD         Normal     175000  \n",
       "1456      2   2010        WD         Normal     210000  \n",
       "1457      5   2010        WD         Normal     266500  \n",
       "1458      4   2010        WD         Normal     142125  \n",
       "1459      6   2008        WD         Normal     147500  \n",
       "\n",
       "[1460 rows x 81 columns]"
      ]
     },
     "metadata": {},
     "output_type": "display_data"
    }
   ],
   "source": [
    "raw_df_train = pd.read_csv('train.csv')\n",
    "raw_df_test = pd.read_csv('test.csv')\n",
    "display(raw_df_train)"
   ]
  },
  {
   "cell_type": "code",
   "execution_count": null,
   "metadata": {
    "collapsed": false
   },
   "outputs": [
    {
     "name": "stdout",
     "output_type": "stream",
     "text": [
      "<class 'pandas.core.frame.DataFrame'>\n",
      "RangeIndex: 1460 entries, 0 to 1459\n",
      "Data columns (total 81 columns):\n",
      " #   Column         Non-Null Count  Dtype  \n",
      "---  ------         --------------  -----  \n",
      " 0   Id             1460 non-null   int64  \n",
      " 1   MSSubClass     1460 non-null   int64  \n",
      " 2   MSZoning       1460 non-null   object \n",
      " 3   LotFrontage    1201 non-null   float64\n",
      " 4   LotArea        1460 non-null   int64  \n",
      " 5   Street         1460 non-null   object \n",
      " 6   Alley          91 non-null     object \n",
      " 7   LotShape       1460 non-null   object \n",
      " 8   LandContour    1460 non-null   object \n",
      " 9   Utilities      1460 non-null   object \n",
      " 10  LotConfig      1460 non-null   object \n",
      " 11  LandSlope      1460 non-null   object \n",
      " 12  Neighborhood   1460 non-null   object \n",
      " 13  Condition1     1460 non-null   object \n",
      " 14  Condition2     1460 non-null   object \n",
      " 15  BldgType       1460 non-null   object \n",
      " 16  HouseStyle     1460 non-null   object \n",
      " 17  OverallQual    1460 non-null   int64  \n",
      " 18  OverallCond    1460 non-null   int64  \n",
      " 19  YearBuilt      1460 non-null   int64  \n",
      " 20  YearRemodAdd   1460 non-null   int64  \n",
      " 21  RoofStyle      1460 non-null   object \n",
      " 22  RoofMatl       1460 non-null   object \n",
      " 23  Exterior1st    1460 non-null   object \n",
      " 24  Exterior2nd    1460 non-null   object \n",
      " 25  MasVnrType     1452 non-null   object \n",
      " 26  MasVnrArea     1452 non-null   float64\n",
      " 27  ExterQual      1460 non-null   object \n",
      " 28  ExterCond      1460 non-null   object \n",
      " 29  Foundation     1460 non-null   object \n",
      " 30  BsmtQual       1423 non-null   object \n",
      " 31  BsmtCond       1423 non-null   object \n",
      " 32  BsmtExposure   1422 non-null   object \n",
      " 33  BsmtFinType1   1423 non-null   object \n",
      " 34  BsmtFinSF1     1460 non-null   int64  \n",
      " 35  BsmtFinType2   1422 non-null   object \n",
      " 36  BsmtFinSF2     1460 non-null   int64  \n",
      " 37  BsmtUnfSF      1460 non-null   int64  \n",
      " 38  TotalBsmtSF    1460 non-null   int64  \n",
      " 39  Heating        1460 non-null   object \n",
      " 40  HeatingQC      1460 non-null   object \n",
      " 41  CentralAir     1460 non-null   object \n",
      " 42  Electrical     1459 non-null   object \n",
      " 43  1stFlrSF       1460 non-null   int64  \n",
      " 44  2ndFlrSF       1460 non-null   int64  \n",
      " 45  LowQualFinSF   1460 non-null   int64  \n",
      " 46  GrLivArea      1460 non-null   int64  \n",
      " 47  BsmtFullBath   1460 non-null   int64  \n",
      " 48  BsmtHalfBath   1460 non-null   int64  \n",
      " 49  FullBath       1460 non-null   int64  \n",
      " 50  HalfBath       1460 non-null   int64  \n",
      " 51  BedroomAbvGr   1460 non-null   int64  \n",
      " 52  KitchenAbvGr   1460 non-null   int64  \n",
      " 53  KitchenQual    1460 non-null   object \n",
      " 54  TotRmsAbvGrd   1460 non-null   int64  \n",
      " 55  Functional     1460 non-null   object \n",
      " 56  Fireplaces     1460 non-null   int64  \n",
      " 57  FireplaceQu    770 non-null    object \n",
      " 58  GarageType     1379 non-null   object \n",
      " 59  GarageYrBlt    1379 non-null   float64\n",
      " 60  GarageFinish   1379 non-null   object \n",
      " 61  GarageCars     1460 non-null   int64  \n",
      " 62  GarageArea     1460 non-null   int64  \n",
      " 63  GarageQual     1379 non-null   object \n",
      " 64  GarageCond     1379 non-null   object \n",
      " 65  PavedDrive     1460 non-null   object \n",
      " 66  WoodDeckSF     1460 non-null   int64  \n",
      " 67  OpenPorchSF    1460 non-null   int64  \n",
      " 68  EnclosedPorch  1460 non-null   int64  \n",
      " 69  3SsnPorch      1460 non-null   int64  \n",
      " 70  ScreenPorch    1460 non-null   int64  \n",
      " 71  PoolArea       1460 non-null   int64  \n",
      " 72  PoolQC         7 non-null      object \n",
      " 73  Fence          281 non-null    object \n",
      " 74  MiscFeature    54 non-null     object \n",
      " 75  MiscVal        1460 non-null   int64  \n",
      " 76  MoSold         1460 non-null   int64  \n",
      " 77  YrSold         1460 non-null   int64  \n",
      " 78  SaleType       1460 non-null   object \n",
      " 79  SaleCondition  1460 non-null   object \n",
      " 80  SalePrice      1460 non-null   int64  \n",
      "dtypes: float64(3), int64(35), object(43)\n",
      "memory usage: 924.0+ KB\n"
     ]
    }
   ],
   "source": [
    "raw_df_train.info()"
   ]
  },
  {
   "cell_type": "code",
   "execution_count": null,
   "metadata": {
    "collapsed": false
   },
   "outputs": [
    {
     "data": {
      "text/plain": [
       "array([ 60,  20,  70,  50, 190,  45,  90, 120,  30,  85,  80, 160,  75,\n",
       "       180,  40])"
      ]
     },
     "execution_count": 27,
     "metadata": {},
     "output_type": "execute_result"
    },
    {
     "data": {
      "image/png": "[encoded data removed]",
      "text/plain": [
       "<Figure size 432x288 with 1 Axes>"
      ]
     },
     "metadata": {
      "needs_background": "light"
     },
     "output_type": "display_data"
    }
   ],
   "source": [
    "plt.hist(raw_df_train['MSSubClass'])\n",
    "raw_df_train['MSSubClass'].unique()"
   ]
  },
  {
   "cell_type": "code",
   "execution_count": null,
   "metadata": {
    "collapsed": false
   },
   "outputs": [],
   "source": [
    "col_types = {\n",
    "  'cat': ['MSZoning', 'BsmtFullBath', 'Neighborhood', 'BsmtExposure'],\n",
    "  'cont': ['OverallQual', 'GrLivArea', 'YearBuilt', 'OverallCond', 'TotalBsmtSF', 'LotArea','GarageArea'],\n",
    "  'gen_cat': ['YearBinned'],\n",
    "  'gen_bi': ['HasGarage'],\n",
    "  'targets': ['SalePrice'],\n",
    "}"
   ]
  },
  {
   "cell_type": "code",
   "execution_count": null,
   "metadata": {
    "collapsed": false
   },
   "outputs": [
    {
     "name": "stdout",
     "output_type": "stream",
     "text": [
      "\n",
      "MSZoning\n",
      "RL         1151\n",
      "RM          218\n",
      "FV           65\n",
      "RH           16\n",
      "C (all)      10\n",
      "Name: MSZoning, dtype: int64\n",
      "Number of Missing Values: 0\n",
      "\n",
      "BsmtFullBath\n",
      "0    856\n",
      "1    588\n",
      "2     15\n",
      "3      1\n",
      "Name: BsmtFullBath, dtype: int64\n",
      "Number of Missing Values: 0\n",
      "\n",
      "Neighborhood\n",
      "NAmes      225\n",
      "CollgCr    150\n",
      "OldTown    113\n",
      "Edwards    100\n",
      "Somerst     86\n",
      "Gilbert     79\n",
      "NridgHt     77\n",
      "Sawyer      74\n",
      "NWAmes      73\n",
      "SawyerW     59\n",
      "BrkSide     58\n",
      "Crawfor     51\n",
      "Mitchel     49\n",
      "NoRidge     41\n",
      "Timber      38\n",
      "IDOTRR      37\n",
      "ClearCr     28\n",
      "StoneBr     25\n",
      "SWISU       25\n",
      "MeadowV     17\n",
      "Blmngtn     17\n",
      "BrDale      16\n",
      "Veenker     11\n",
      "NPkVill      9\n",
      "Blueste      2\n",
      "Name: Neighborhood, dtype: int64\n",
      "Number of Missing Values: 0\n",
      "\n",
      "BsmtExposure\n",
      "No    953\n",
      "Av    221\n",
      "Gd    134\n",
      "Mn    114\n",
      "Name: BsmtExposure, dtype: int64\n",
      "Number of Missing Values: 38\n"
     ]
    }
   ],
   "source": [
    "for col in col_types['cat']:\n",
    "    print(\"\\n\" + col)\n",
    "    print(raw_df_train[col].value_counts())\n",
    "    print(\"Number of Missing Values:\", raw_df_train[col].isna().sum())"
   ]
  },
  {
   "cell_type": "code",
   "execution_count": null,
   "metadata": {
    "collapsed": false
   },
   "outputs": [
    {
     "name": "stdout",
     "output_type": "stream",
     "text": [
      "\n",
      "OverallQual\n"
     ]
    },
    {
     "data": {
      "image/png": "[encoded data removed]",
      "text/plain": [
       "<Figure size 432x288 with 1 Axes>"
      ]
     },
     "metadata": {
      "needs_background": "light"
     },
     "output_type": "display_data"
    },
    {
     "name": "stdout",
     "output_type": "stream",
     "text": [
      "Number of Missing Values: 0\n",
      "\n",
      "GrLivArea\n"
     ]
    },
    {
     "data": {
      "image/png": "[encoded data removed]",
      "text/plain": [
       "<Figure size 432x288 with 1 Axes>"
      ]
     },
     "metadata": {
      "needs_background": "light"
     },
     "output_type": "display_data"
    },
    {
     "name": "stdout",
     "output_type": "stream",
     "text": [
      "Number of Missing Values: 0\n",
      "\n",
      "YearBuilt\n"
     ]
    },
    {
     "data": {
      "image/png": "[encoded data removed]",
      "text/plain": [
       "<Figure size 432x288 with 1 Axes>"
      ]
     },
     "metadata": {
      "needs_background": "light"
     },
     "output_type": "display_data"
    },
    {
     "name": "stdout",
     "output_type": "stream",
     "text": [
      "Number of Missing Values: 0\n",
      "\n",
      "OverallCond\n"
     ]
    },
    {
     "data": {
      "image/png": "[encoded data removed]",
      "text/plain": [
       "<Figure size 432x288 with 1 Axes>"
      ]
     },
     "metadata": {
      "needs_background": "light"
     },
     "output_type": "display_data"
    },
    {
     "name": "stdout",
     "output_type": "stream",
     "text": [
      "Number of Missing Values: 0\n",
      "\n",
      "TotalBsmtSF\n"
     ]
    },
    {
     "data": {
      "image/png": "[encoded data removed]",
      "text/plain": [
       "<Figure size 432x288 with 1 Axes>"
      ]
     },
     "metadata": {
      "needs_background": "light"
     },
     "output_type": "display_data"
    },
    {
     "name": "stdout",
     "output_type": "stream",
     "text": [
      "Number of Missing Values: 0\n",
      "\n",
      "LotArea\n"
     ]
    },
    {
     "data": {
      "image/png": "[encoded data removed]",
      "text/plain": [
       "<Figure size 432x288 with 1 Axes>"
      ]
     },
     "metadata": {
      "needs_background": "light"
     },
     "output_type": "display_data"
    },
    {
     "name": "stdout",
     "output_type": "stream",
     "text": [
      "Number of Missing Values: 0\n",
      "\n",
      "GarageArea\n"
     ]
    },
    {
     "data": {
      "image/png": "[encoded data removed]",
      "text/plain": [
       "<Figure size 432x288 with 1 Axes>"
      ]
     },
     "metadata": {
      "needs_background": "light"
     },
     "output_type": "display_data"
    },
    {
     "name": "stdout",
     "output_type": "stream",
     "text": [
      "Number of Missing Values: 0\n"
     ]
    }
   ],
   "source": [
    "for col in col_types['cont']:\n",
    "    print(\"\\n\" + col)\n",
    "    plt.hist(raw_df_train[col], log=True, bins=30)\n",
    "    plt.show()\n",
    "    print(\"Number of Missing Values:\", raw_df_train[col].isna().sum())"
   ]
  },
  {
   "cell_type": "code",
   "execution_count": null,
   "metadata": {
    "collapsed": false
   },
   "outputs": [],
   "source": [
    "# raw_df_train[col_types['cat']+col_types['cont']].query('TotalBsmtSF > 3000')"
   ]
  },
  {
   "cell_type": "code",
   "execution_count": null,
   "metadata": {
    "collapsed": false
   },
   "outputs": [],
   "source": [
    "# plt.hist(np.log(raw_df_train['LotArea']), bins=30)"
   ]
  },
  {
   "cell_type": "code",
   "execution_count": null,
   "metadata": {
    "collapsed": false
   },
   "outputs": [
    {
     "data": {
      "text/plain": [
       "array([1, 1, 1, ..., 1, 1, 1])"
      ]
     },
     "execution_count": 33,
     "metadata": {},
     "output_type": "execute_result"
    }
   ],
   "source": [
    "np.where(raw_df_train['GarageArea']>0, 1, 0)"
   ]
  },
  {
   "cell_type": "code",
   "execution_count": null,
   "metadata": {
    "collapsed": false
   },
   "outputs": [
    {
     "data": {
      "text/plain": [
       "(array([364.,   0., 338.,   0.,   0., 313.,   0., 420.,   0.,  25.]),\n",
       " array([0. , 0.4, 0.8, 1.2, 1.6, 2. , 2.4, 2.8, 3.2, 3.6, 4. ]),\n",
       " <a list of 10 Patch objects>)"
      ]
     },
     "execution_count": 34,
     "metadata": {},
     "output_type": "execute_result"
    },
    {
     "data": {
      "image/png": "[encoded data removed]",
      "text/plain": [
       "<Figure size 432x288 with 1 Axes>"
      ]
     },
     "metadata": {
      "needs_background": "light"
     },
     "output_type": "display_data"
    }
   ],
   "source": [
    "plt.hist(pd.cut(raw_df_train['YearBuilt'],[1850,1900,1950,1975,2000,2050]).astype(str))"
   ]
  },
  {
   "cell_type": "code",
   "execution_count": null,
   "metadata": {
    "collapsed": false
   },
   "outputs": [],
   "source": [
    "# df_train = raw_df_train[col_types['cat']].copy()\n",
    "# df_train['BsmtFullBath'] = np.where(df_train['BsmtFullBath']>1, '2+', df_train['BsmtFullBath'].astype(str))\n",
    "# df_train['BsmtExposure'] = df_train['BsmtExposure'].fillna('No Basement')\n",
    "# df_train"
   ]
  },
  {
   "cell_type": "markdown",
   "metadata": {},
   "source": [
    "## Apply Cleanup"
   ]
  },
  {
   "cell_type": "code",
   "execution_count": null,
   "metadata": {
    "collapsed": false
   },
   "outputs": [],
   "source": [
    "def clean_data(raw_df):\n",
    "    df = pd.DataFrame()\n",
    "    \n",
    "    for col in col_types['cat']:\n",
    "        if col == 'BsmtFullBath':\n",
    "            df[col] = np.where(raw_df['BsmtFullBath']>1, '2+', raw_df['BsmtFullBath'].astype(str))\n",
    "        elif col == 'BsmtExposure':\n",
    "            df[col] = raw_df['BsmtExposure'].fillna('No Basement')\n",
    "        else:\n",
    "            df[col] = raw_df[col]\n",
    "            \n",
    "    for col in col_types['cont']:\n",
    "        if col == 'YearBuilt':\n",
    "            df['YearBinned'] = pd.cut(raw_df['YearBuilt'],[1850,1900,1950,1975,2000,2050]).astype(str)\n",
    "            df[col] = raw_df[col]\n",
    "        elif col == 'GarageArea':\n",
    "            df['HasGarage'] = np.where(raw_df[col]>0, 1, 0)\n",
    "            df[col] = raw_df[col].fillna(0)\n",
    "        elif col == 'LotArea':\n",
    "            df[col] = np.log(raw_df[col])\n",
    "        elif col == 'TotalBsmtSF':\n",
    "            df[col] = raw_df[col].fillna(0)\n",
    "        else:\n",
    "            df[col] = raw_df[col]\n",
    "            \n",
    "    for col in col_types['targets']:\n",
    "        if col == 'SalePrice':\n",
    "            if col in raw_df.columns:\n",
    "                df[col] = np.log(raw_df[col])\n",
    "            \n",
    "    return df"
   ]
  },
  {
   "cell_type": "code",
   "execution_count": null,
   "metadata": {
    "collapsed": false
   },
   "outputs": [],
   "source": [
    "bad_train_index = [948, # basement sqrt inconsistent with BsmtExposure\n",
    "                   ]\n",
    "\n",
    "df_train = clean_data(raw_df_train.drop(bad_train_index))\n",
    "df_test = clean_data(raw_df_test)\n",
    "\n",
    "df_train_cat = df_train[col_types['cat']+col_types['gen_cat']]\n",
    "df_test_cat = df_test[col_types['cat']+col_types['gen_cat']]\n",
    "\n",
    "df_train_cont = df_train[col_types['cont']+col_types['gen_bi']]\n",
    "df_test_cont = df_test[col_types['cont']+col_types['gen_bi']]"
   ]
  },
  {
   "cell_type": "code",
   "execution_count": null,
   "metadata": {
    "collapsed": false
   },
   "outputs": [],
   "source": [
    "# raw_df_train[raw_df_train['BsmtExposure'].isna() ^ (raw_df_train['TotalBsmtSF']==0)]"
   ]
  },
  {
   "cell_type": "markdown",
   "metadata": {},
   "source": [
    "## Encode Catagorical and Scale Continous"
   ]
  },
  {
   "cell_type": "code",
   "execution_count": null,
   "metadata": {
    "collapsed": false
   },
   "outputs": [
    {
     "data": {
      "text/html": [
       "<div>\n",
       "<style scoped>\n",
       "    .dataframe tbody tr th:only-of-type {\n",
       "        vertical-align: middle;\n",
       "    }\n",
       "\n",
       "    .dataframe tbody tr th {\n",
       "        vertical-align: top;\n",
       "    }\n",
       "\n",
       "    .dataframe thead th {\n",
       "        text-align: right;\n",
       "    }\n",
       "</style>\n",
       "<table border=\"1\" class=\"dataframe\">\n",
       "  <thead>\n",
       "    <tr style=\"text-align: right;\">\n",
       "      <th></th>\n",
       "      <th>OverallQual</th>\n",
       "      <th>GrLivArea</th>\n",
       "      <th>YearBuilt</th>\n",
       "      <th>OverallCond</th>\n",
       "      <th>TotalBsmtSF</th>\n",
       "      <th>LotArea</th>\n",
       "      <th>HasGarage</th>\n",
       "      <th>GarageArea</th>\n",
       "      <th>SalePrice</th>\n",
       "      <th>MSZoning_C (all)</th>\n",
       "      <th>...</th>\n",
       "      <th>BsmtExposure_Av</th>\n",
       "      <th>BsmtExposure_Gd</th>\n",
       "      <th>BsmtExposure_Mn</th>\n",
       "      <th>BsmtExposure_No</th>\n",
       "      <th>BsmtExposure_No Basement</th>\n",
       "      <th>YearBinned_(1850, 1900]</th>\n",
       "      <th>YearBinned_(1900, 1950]</th>\n",
       "      <th>YearBinned_(1950, 1975]</th>\n",
       "      <th>YearBinned_(1975, 2000]</th>\n",
       "      <th>YearBinned_(2000, 2050]</th>\n",
       "    </tr>\n",
       "  </thead>\n",
       "  <tbody>\n",
       "    <tr>\n",
       "      <th>0</th>\n",
       "      <td>7</td>\n",
       "      <td>1710</td>\n",
       "      <td>2003</td>\n",
       "      <td>5</td>\n",
       "      <td>856</td>\n",
       "      <td>9.041922</td>\n",
       "      <td>1</td>\n",
       "      <td>548</td>\n",
       "      <td>12.247694</td>\n",
       "      <td>0</td>\n",
       "      <td>...</td>\n",
       "      <td>0</td>\n",
       "      <td>0</td>\n",
       "      <td>0</td>\n",
       "      <td>1</td>\n",
       "      <td>0</td>\n",
       "      <td>0</td>\n",
       "      <td>0</td>\n",
       "      <td>0</td>\n",
       "      <td>0</td>\n",
       "      <td>1</td>\n",
       "    </tr>\n",
       "    <tr>\n",
       "      <th>1</th>\n",
       "      <td>6</td>\n",
       "      <td>1262</td>\n",
       "      <td>1976</td>\n",
       "      <td>8</td>\n",
       "      <td>1262</td>\n",
       "      <td>9.169518</td>\n",
       "      <td>1</td>\n",
       "      <td>460</td>\n",
       "      <td>12.109011</td>\n",
       "      <td>0</td>\n",
       "      <td>...</td>\n",
       "      <td>0</td>\n",
       "      <td>1</td>\n",
       "      <td>0</td>\n",
       "      <td>0</td>\n",
       "      <td>0</td>\n",
       "      <td>0</td>\n",
       "      <td>0</td>\n",
       "      <td>0</td>\n",
       "      <td>1</td>\n",
       "      <td>0</td>\n",
       "    </tr>\n",
       "    <tr>\n",
       "      <th>2</th>\n",
       "      <td>7</td>\n",
       "      <td>1786</td>\n",
       "      <td>2001</td>\n",
       "      <td>5</td>\n",
       "      <td>920</td>\n",
       "      <td>9.328123</td>\n",
       "      <td>1</td>\n",
       "      <td>608</td>\n",
       "      <td>12.317167</td>\n",
       "      <td>0</td>\n",
       "      <td>...</td>\n",
       "      <td>0</td>\n",
       "      <td>0</td>\n",
       "      <td>1</td>\n",
       "      <td>0</td>\n",
       "      <td>0</td>\n",
       "      <td>0</td>\n",
       "      <td>0</td>\n",
       "      <td>0</td>\n",
       "      <td>0</td>\n",
       "      <td>1</td>\n",
       "    </tr>\n",
       "    <tr>\n",
       "      <th>3</th>\n",
       "      <td>7</td>\n",
       "      <td>1717</td>\n",
       "      <td>1915</td>\n",
       "      <td>5</td>\n",
       "      <td>756</td>\n",
       "      <td>9.164296</td>\n",
       "      <td>1</td>\n",
       "      <td>642</td>\n",
       "      <td>11.849398</td>\n",
       "      <td>0</td>\n",
       "      <td>...</td>\n",
       "      <td>0</td>\n",
       "      <td>0</td>\n",
       "      <td>0</td>\n",
       "      <td>1</td>\n",
       "      <td>0</td>\n",
       "      <td>0</td>\n",
       "      <td>1</td>\n",
       "      <td>0</td>\n",
       "      <td>0</td>\n",
       "      <td>0</td>\n",
       "    </tr>\n",
       "    <tr>\n",
       "      <th>4</th>\n",
       "      <td>8</td>\n",
       "      <td>2198</td>\n",
       "      <td>2000</td>\n",
       "      <td>5</td>\n",
       "      <td>1145</td>\n",
       "      <td>9.565214</td>\n",
       "      <td>1</td>\n",
       "      <td>836</td>\n",
       "      <td>12.429216</td>\n",
       "      <td>0</td>\n",
       "      <td>...</td>\n",
       "      <td>1</td>\n",
       "      <td>0</td>\n",
       "      <td>0</td>\n",
       "      <td>0</td>\n",
       "      <td>0</td>\n",
       "      <td>0</td>\n",
       "      <td>0</td>\n",
       "      <td>0</td>\n",
       "      <td>1</td>\n",
       "      <td>0</td>\n",
       "    </tr>\n",
       "    <tr>\n",
       "      <th>...</th>\n",
       "      <td>...</td>\n",
       "      <td>...</td>\n",
       "      <td>...</td>\n",
       "      <td>...</td>\n",
       "      <td>...</td>\n",
       "      <td>...</td>\n",
       "      <td>...</td>\n",
       "      <td>...</td>\n",
       "      <td>...</td>\n",
       "      <td>...</td>\n",
       "      <td>...</td>\n",
       "      <td>...</td>\n",
       "      <td>...</td>\n",
       "      <td>...</td>\n",
       "      <td>...</td>\n",
       "      <td>...</td>\n",
       "      <td>...</td>\n",
       "      <td>...</td>\n",
       "      <td>...</td>\n",
       "      <td>...</td>\n",
       "      <td>...</td>\n",
       "    </tr>\n",
       "    <tr>\n",
       "      <th>1455</th>\n",
       "      <td>6</td>\n",
       "      <td>1647</td>\n",
       "      <td>1999</td>\n",
       "      <td>5</td>\n",
       "      <td>953</td>\n",
       "      <td>8.976768</td>\n",
       "      <td>1</td>\n",
       "      <td>460</td>\n",
       "      <td>12.072541</td>\n",
       "      <td>0</td>\n",
       "      <td>...</td>\n",
       "      <td>0</td>\n",
       "      <td>0</td>\n",
       "      <td>0</td>\n",
       "      <td>1</td>\n",
       "      <td>0</td>\n",
       "      <td>0</td>\n",
       "      <td>0</td>\n",
       "      <td>0</td>\n",
       "      <td>1</td>\n",
       "      <td>0</td>\n",
       "    </tr>\n",
       "    <tr>\n",
       "      <th>1456</th>\n",
       "      <td>6</td>\n",
       "      <td>2073</td>\n",
       "      <td>1978</td>\n",
       "      <td>6</td>\n",
       "      <td>1542</td>\n",
       "      <td>9.486076</td>\n",
       "      <td>1</td>\n",
       "      <td>500</td>\n",
       "      <td>12.254863</td>\n",
       "      <td>0</td>\n",
       "      <td>...</td>\n",
       "      <td>0</td>\n",
       "      <td>0</td>\n",
       "      <td>0</td>\n",
       "      <td>1</td>\n",
       "      <td>0</td>\n",
       "      <td>0</td>\n",
       "      <td>0</td>\n",
       "      <td>0</td>\n",
       "      <td>1</td>\n",
       "      <td>0</td>\n",
       "    </tr>\n",
       "    <tr>\n",
       "      <th>1457</th>\n",
       "      <td>7</td>\n",
       "      <td>2340</td>\n",
       "      <td>1941</td>\n",
       "      <td>9</td>\n",
       "      <td>1152</td>\n",
       "      <td>9.109636</td>\n",
       "      <td>1</td>\n",
       "      <td>252</td>\n",
       "      <td>12.493130</td>\n",
       "      <td>0</td>\n",
       "      <td>...</td>\n",
       "      <td>0</td>\n",
       "      <td>0</td>\n",
       "      <td>0</td>\n",
       "      <td>1</td>\n",
       "      <td>0</td>\n",
       "      <td>0</td>\n",
       "      <td>1</td>\n",
       "      <td>0</td>\n",
       "      <td>0</td>\n",
       "      <td>0</td>\n",
       "    </tr>\n",
       "    <tr>\n",
       "      <th>1458</th>\n",
       "      <td>5</td>\n",
       "      <td>1078</td>\n",
       "      <td>1950</td>\n",
       "      <td>6</td>\n",
       "      <td>1078</td>\n",
       "      <td>9.181632</td>\n",
       "      <td>1</td>\n",
       "      <td>240</td>\n",
       "      <td>11.864462</td>\n",
       "      <td>0</td>\n",
       "      <td>...</td>\n",
       "      <td>0</td>\n",
       "      <td>0</td>\n",
       "      <td>1</td>\n",
       "      <td>0</td>\n",
       "      <td>0</td>\n",
       "      <td>0</td>\n",
       "      <td>1</td>\n",
       "      <td>0</td>\n",
       "      <td>0</td>\n",
       "      <td>0</td>\n",
       "    </tr>\n",
       "    <tr>\n",
       "      <th>1459</th>\n",
       "      <td>5</td>\n",
       "      <td>1256</td>\n",
       "      <td>1965</td>\n",
       "      <td>6</td>\n",
       "      <td>1256</td>\n",
       "      <td>9.204020</td>\n",
       "      <td>1</td>\n",
       "      <td>276</td>\n",
       "      <td>11.901583</td>\n",
       "      <td>0</td>\n",
       "      <td>...</td>\n",
       "      <td>0</td>\n",
       "      <td>0</td>\n",
       "      <td>0</td>\n",
       "      <td>1</td>\n",
       "      <td>0</td>\n",
       "      <td>0</td>\n",
       "      <td>0</td>\n",
       "      <td>1</td>\n",
       "      <td>0</td>\n",
       "      <td>0</td>\n",
       "    </tr>\n",
       "  </tbody>\n",
       "</table>\n",
       "<p>1459 rows × 52 columns</p>\n",
       "</div>"
      ],
      "text/plain": [
       "      OverallQual  GrLivArea  YearBuilt  OverallCond  TotalBsmtSF   LotArea  \\\n",
       "0               7       1710       2003            5          856  9.041922   \n",
       "1               6       1262       1976            8         1262  9.169518   \n",
       "2               7       1786       2001            5          920  9.328123   \n",
       "3               7       1717       1915            5          756  9.164296   \n",
       "4               8       2198       2000            5         1145  9.565214   \n",
       "...           ...        ...        ...          ...          ...       ...   \n",
       "1455            6       1647       1999            5          953  8.976768   \n",
       "1456            6       2073       1978            6         1542  9.486076   \n",
       "1457            7       2340       1941            9         1152  9.109636   \n",
       "1458            5       1078       1950            6         1078  9.181632   \n",
       "1459            5       1256       1965            6         1256  9.204020   \n",
       "\n",
       "      HasGarage  GarageArea  SalePrice  MSZoning_C (all)  ...  \\\n",
       "0             1         548  12.247694                 0  ...   \n",
       "1             1         460  12.109011                 0  ...   \n",
       "2             1         608  12.317167                 0  ...   \n",
       "3             1         642  11.849398                 0  ...   \n",
       "4             1         836  12.429216                 0  ...   \n",
       "...         ...         ...        ...               ...  ...   \n",
       "1455          1         460  12.072541                 0  ...   \n",
       "1456          1         500  12.254863                 0  ...   \n",
       "1457          1         252  12.493130                 0  ...   \n",
       "1458          1         240  11.864462                 0  ...   \n",
       "1459          1         276  11.901583                 0  ...   \n",
       "\n",
       "      BsmtExposure_Av  BsmtExposure_Gd  BsmtExposure_Mn  BsmtExposure_No  \\\n",
       "0                   0                0                0                1   \n",
       "1                   0                1                0                0   \n",
       "2                   0                0                1                0   \n",
       "3                   0                0                0                1   \n",
       "4                   1                0                0                0   \n",
       "...               ...              ...              ...              ...   \n",
       "1455                0                0                0                1   \n",
       "1456                0                0                0                1   \n",
       "1457                0                0                0                1   \n",
       "1458                0                0                1                0   \n",
       "1459                0                0                0                1   \n",
       "\n",
       "      BsmtExposure_No Basement  YearBinned_(1850, 1900]  \\\n",
       "0                            0                        0   \n",
       "1                            0                        0   \n",
       "2                            0                        0   \n",
       "3                            0                        0   \n",
       "4                            0                        0   \n",
       "...                        ...                      ...   \n",
       "1455                         0                        0   \n",
       "1456                         0                        0   \n",
       "1457                         0                        0   \n",
       "1458                         0                        0   \n",
       "1459                         0                        0   \n",
       "\n",
       "      YearBinned_(1900, 1950]  YearBinned_(1950, 1975]  \\\n",
       "0                           0                        0   \n",
       "1                           0                        0   \n",
       "2                           0                        0   \n",
       "3                           1                        0   \n",
       "4                           0                        0   \n",
       "...                       ...                      ...   \n",
       "1455                        0                        0   \n",
       "1456                        0                        0   \n",
       "1457                        1                        0   \n",
       "1458                        1                        0   \n",
       "1459                        0                        1   \n",
       "\n",
       "      YearBinned_(1975, 2000]  YearBinned_(2000, 2050]  \n",
       "0                           0                        1  \n",
       "1                           1                        0  \n",
       "2                           0                        1  \n",
       "3                           0                        0  \n",
       "4                           1                        0  \n",
       "...                       ...                      ...  \n",
       "1455                        1                        0  \n",
       "1456                        1                        0  \n",
       "1457                        0                        0  \n",
       "1458                        0                        0  \n",
       "1459                        0                        0  \n",
       "\n",
       "[1459 rows x 52 columns]"
      ]
     },
     "execution_count": 39,
     "metadata": {},
     "output_type": "execute_result"
    }
   ],
   "source": [
    "pd.get_dummies(df_train, columns=col_types['cat']+col_types['gen_cat'])"
   ]
  },
  {
   "cell_type": "code",
   "execution_count": null,
   "metadata": {
    "collapsed": false
   },
   "outputs": [],
   "source": [
    "encoder = OneHotEncoder(handle_unknown='ignore')\n",
    "encoder.fit(df_train_cat)\n",
    "x_train_cat = encoder.transform(df_train_cat).todense()\n",
    "x_test_cat = encoder.transform(df_test_cat.fillna('unknown')).todense()"
   ]
  },
  {
   "cell_type": "code",
   "execution_count": null,
   "metadata": {
    "collapsed": true
   },
   "outputs": [],
   "source": [
    "scaler = MinMaxScaler()\n",
    "scaler.fit(df_train_cont)\n",
    "x_train_cont = scaler.transform(df_train_cont)\n",
    "x_test_cont = scaler.transform(df_test_cont)"
   ]
  },
  {
   "cell_type": "code",
   "execution_count": null,
   "metadata": {
    "collapsed": false
   },
   "outputs": [],
   "source": [
    "x_train = np.concatenate([x_train_cat, x_train_cont], axis=1)\n",
    "x_test = np.concatenate([x_test_cat, x_test_cont], axis=1)\n",
    "y_train = df_train[col_types['targets']].values"
   ]
  },
  {
   "cell_type": "markdown",
   "metadata": {},
   "source": [
    "## Simple Model Test"
   ]
  },
  {
   "cell_type": "code",
   "execution_count": null,
   "metadata": {
    "collapsed": true
   },
   "outputs": [],
   "source": [
    "model = Lasso(1e-2)\n",
    "model.fit(x_train, y_train)\n",
    "log_preds = model.predict(x_test)\n",
    "pred = np.exp(log_preds)"
   ]
  },
  {
   "cell_type": "code",
   "execution_count": null,
   "metadata": {
    "collapsed": false
   },
   "outputs": [
    {
     "data": {
      "text/html": [
       "<div>\n",
       "<style scoped>\n",
       "    .dataframe tbody tr th:only-of-type {\n",
       "        vertical-align: middle;\n",
       "    }\n",
       "\n",
       "    .dataframe tbody tr th {\n",
       "        vertical-align: top;\n",
       "    }\n",
       "\n",
       "    .dataframe thead th {\n",
       "        text-align: right;\n",
       "    }\n",
       "</style>\n",
       "<table border=\"1\" class=\"dataframe\">\n",
       "  <thead>\n",
       "    <tr style=\"text-align: right;\">\n",
       "      <th></th>\n",
       "      <th>MSZoning</th>\n",
       "      <th>BsmtFullBath</th>\n",
       "      <th>Neighborhood</th>\n",
       "      <th>BsmtExposure</th>\n",
       "      <th>OverallQual</th>\n",
       "      <th>GrLivArea</th>\n",
       "      <th>YearBinned</th>\n",
       "      <th>YearBuilt</th>\n",
       "      <th>OverallCond</th>\n",
       "      <th>TotalBsmtSF</th>\n",
       "      <th>LotArea</th>\n",
       "      <th>HasGarage</th>\n",
       "      <th>GarageArea</th>\n",
       "      <th>SalePrice</th>\n",
       "      <th>lasso_est</th>\n",
       "    </tr>\n",
       "  </thead>\n",
       "  <tbody>\n",
       "    <tr>\n",
       "      <th>0</th>\n",
       "      <td>RL</td>\n",
       "      <td>1</td>\n",
       "      <td>CollgCr</td>\n",
       "      <td>No</td>\n",
       "      <td>7</td>\n",
       "      <td>1710</td>\n",
       "      <td>(2000, 2050]</td>\n",
       "      <td>2003</td>\n",
       "      <td>5</td>\n",
       "      <td>856</td>\n",
       "      <td>9.041922</td>\n",
       "      <td>1</td>\n",
       "      <td>548</td>\n",
       "      <td>12.247694</td>\n",
       "      <td>12.296607</td>\n",
       "    </tr>\n",
       "    <tr>\n",
       "      <th>1</th>\n",
       "      <td>RL</td>\n",
       "      <td>0</td>\n",
       "      <td>Veenker</td>\n",
       "      <td>Gd</td>\n",
       "      <td>6</td>\n",
       "      <td>1262</td>\n",
       "      <td>(1975, 2000]</td>\n",
       "      <td>1976</td>\n",
       "      <td>8</td>\n",
       "      <td>1262</td>\n",
       "      <td>9.169518</td>\n",
       "      <td>1</td>\n",
       "      <td>460</td>\n",
       "      <td>12.109011</td>\n",
       "      <td>12.029524</td>\n",
       "    </tr>\n",
       "    <tr>\n",
       "      <th>2</th>\n",
       "      <td>RL</td>\n",
       "      <td>1</td>\n",
       "      <td>CollgCr</td>\n",
       "      <td>Mn</td>\n",
       "      <td>7</td>\n",
       "      <td>1786</td>\n",
       "      <td>(2000, 2050]</td>\n",
       "      <td>2001</td>\n",
       "      <td>5</td>\n",
       "      <td>920</td>\n",
       "      <td>9.328123</td>\n",
       "      <td>1</td>\n",
       "      <td>608</td>\n",
       "      <td>12.317167</td>\n",
       "      <td>12.315662</td>\n",
       "    </tr>\n",
       "    <tr>\n",
       "      <th>3</th>\n",
       "      <td>RL</td>\n",
       "      <td>1</td>\n",
       "      <td>Crawfor</td>\n",
       "      <td>No</td>\n",
       "      <td>7</td>\n",
       "      <td>1717</td>\n",
       "      <td>(1900, 1950]</td>\n",
       "      <td>1915</td>\n",
       "      <td>5</td>\n",
       "      <td>756</td>\n",
       "      <td>9.164296</td>\n",
       "      <td>1</td>\n",
       "      <td>642</td>\n",
       "      <td>11.849398</td>\n",
       "      <td>12.160511</td>\n",
       "    </tr>\n",
       "    <tr>\n",
       "      <th>4</th>\n",
       "      <td>RL</td>\n",
       "      <td>1</td>\n",
       "      <td>NoRidge</td>\n",
       "      <td>Av</td>\n",
       "      <td>8</td>\n",
       "      <td>2198</td>\n",
       "      <td>(1975, 2000]</td>\n",
       "      <td>2000</td>\n",
       "      <td>5</td>\n",
       "      <td>1145</td>\n",
       "      <td>9.565214</td>\n",
       "      <td>1</td>\n",
       "      <td>836</td>\n",
       "      <td>12.429216</td>\n",
       "      <td>12.440450</td>\n",
       "    </tr>\n",
       "    <tr>\n",
       "      <th>...</th>\n",
       "      <td>...</td>\n",
       "      <td>...</td>\n",
       "      <td>...</td>\n",
       "      <td>...</td>\n",
       "      <td>...</td>\n",
       "      <td>...</td>\n",
       "      <td>...</td>\n",
       "      <td>...</td>\n",
       "      <td>...</td>\n",
       "      <td>...</td>\n",
       "      <td>...</td>\n",
       "      <td>...</td>\n",
       "      <td>...</td>\n",
       "      <td>...</td>\n",
       "      <td>...</td>\n",
       "    </tr>\n",
       "    <tr>\n",
       "      <th>1455</th>\n",
       "      <td>RL</td>\n",
       "      <td>0</td>\n",
       "      <td>Gilbert</td>\n",
       "      <td>No</td>\n",
       "      <td>6</td>\n",
       "      <td>1647</td>\n",
       "      <td>(1975, 2000]</td>\n",
       "      <td>1999</td>\n",
       "      <td>5</td>\n",
       "      <td>953</td>\n",
       "      <td>8.976768</td>\n",
       "      <td>1</td>\n",
       "      <td>460</td>\n",
       "      <td>12.072541</td>\n",
       "      <td>12.024225</td>\n",
       "    </tr>\n",
       "    <tr>\n",
       "      <th>1456</th>\n",
       "      <td>RL</td>\n",
       "      <td>1</td>\n",
       "      <td>NWAmes</td>\n",
       "      <td>No</td>\n",
       "      <td>6</td>\n",
       "      <td>2073</td>\n",
       "      <td>(1975, 2000]</td>\n",
       "      <td>1978</td>\n",
       "      <td>6</td>\n",
       "      <td>1542</td>\n",
       "      <td>9.486076</td>\n",
       "      <td>1</td>\n",
       "      <td>500</td>\n",
       "      <td>12.254863</td>\n",
       "      <td>12.120782</td>\n",
       "    </tr>\n",
       "    <tr>\n",
       "      <th>1457</th>\n",
       "      <td>RL</td>\n",
       "      <td>0</td>\n",
       "      <td>Crawfor</td>\n",
       "      <td>No</td>\n",
       "      <td>7</td>\n",
       "      <td>2340</td>\n",
       "      <td>(1900, 1950]</td>\n",
       "      <td>1941</td>\n",
       "      <td>9</td>\n",
       "      <td>1152</td>\n",
       "      <td>9.109636</td>\n",
       "      <td>1</td>\n",
       "      <td>252</td>\n",
       "      <td>12.493130</td>\n",
       "      <td>12.081970</td>\n",
       "    </tr>\n",
       "    <tr>\n",
       "      <th>1458</th>\n",
       "      <td>RL</td>\n",
       "      <td>1</td>\n",
       "      <td>NAmes</td>\n",
       "      <td>Mn</td>\n",
       "      <td>5</td>\n",
       "      <td>1078</td>\n",
       "      <td>(1900, 1950]</td>\n",
       "      <td>1950</td>\n",
       "      <td>6</td>\n",
       "      <td>1078</td>\n",
       "      <td>9.181632</td>\n",
       "      <td>1</td>\n",
       "      <td>240</td>\n",
       "      <td>11.864462</td>\n",
       "      <td>11.802188</td>\n",
       "    </tr>\n",
       "    <tr>\n",
       "      <th>1459</th>\n",
       "      <td>RL</td>\n",
       "      <td>1</td>\n",
       "      <td>Edwards</td>\n",
       "      <td>No</td>\n",
       "      <td>5</td>\n",
       "      <td>1256</td>\n",
       "      <td>(1950, 1975]</td>\n",
       "      <td>1965</td>\n",
       "      <td>6</td>\n",
       "      <td>1256</td>\n",
       "      <td>9.204020</td>\n",
       "      <td>1</td>\n",
       "      <td>276</td>\n",
       "      <td>11.901583</td>\n",
       "      <td>11.872628</td>\n",
       "    </tr>\n",
       "  </tbody>\n",
       "</table>\n",
       "<p>1459 rows × 15 columns</p>\n",
       "</div>"
      ],
      "text/plain": [
       "     MSZoning BsmtFullBath Neighborhood BsmtExposure  OverallQual  GrLivArea  \\\n",
       "0          RL            1      CollgCr           No            7       1710   \n",
       "1          RL            0      Veenker           Gd            6       1262   \n",
       "2          RL            1      CollgCr           Mn            7       1786   \n",
       "3          RL            1      Crawfor           No            7       1717   \n",
       "4          RL            1      NoRidge           Av            8       2198   \n",
       "...       ...          ...          ...          ...          ...        ...   \n",
       "1455       RL            0      Gilbert           No            6       1647   \n",
       "1456       RL            1       NWAmes           No            6       2073   \n",
       "1457       RL            0      Crawfor           No            7       2340   \n",
       "1458       RL            1        NAmes           Mn            5       1078   \n",
       "1459       RL            1      Edwards           No            5       1256   \n",
       "\n",
       "        YearBinned  YearBuilt  OverallCond  TotalBsmtSF   LotArea  HasGarage  \\\n",
       "0     (2000, 2050]       2003            5          856  9.041922          1   \n",
       "1     (1975, 2000]       1976            8         1262  9.169518          1   \n",
       "2     (2000, 2050]       2001            5          920  9.328123          1   \n",
       "3     (1900, 1950]       1915            5          756  9.164296          1   \n",
       "4     (1975, 2000]       2000            5         1145  9.565214          1   \n",
       "...            ...        ...          ...          ...       ...        ...   \n",
       "1455  (1975, 2000]       1999            5          953  8.976768          1   \n",
       "1456  (1975, 2000]       1978            6         1542  9.486076          1   \n",
       "1457  (1900, 1950]       1941            9         1152  9.109636          1   \n",
       "1458  (1900, 1950]       1950            6         1078  9.181632          1   \n",
       "1459  (1950, 1975]       1965            6         1256  9.204020          1   \n",
       "\n",
       "      GarageArea  SalePrice  lasso_est  \n",
       "0            548  12.247694  12.296607  \n",
       "1            460  12.109011  12.029524  \n",
       "2            608  12.317167  12.315662  \n",
       "3            642  11.849398  12.160511  \n",
       "4            836  12.429216  12.440450  \n",
       "...          ...        ...        ...  \n",
       "1455         460  12.072541  12.024225  \n",
       "1456         500  12.254863  12.120782  \n",
       "1457         252  12.493130  12.081970  \n",
       "1458         240  11.864462  11.802188  \n",
       "1459         276  11.901583  11.872628  \n",
       "\n",
       "[1459 rows x 15 columns]"
      ]
     },
     "execution_count": 44,
     "metadata": {},
     "output_type": "execute_result"
    }
   ],
   "source": [
    "check = df_train.copy()\n",
    "check['lasso_est'] = model.predict(x_train)\n",
    "check"
   ]
  },
  {
   "cell_type": "code",
   "execution_count": null,
   "metadata": {
    "collapsed": false
   },
   "outputs": [
    {
     "data": {
      "text/plain": [
       "Text(0, 0.5, 'predicted log(SalePrice)')"
      ]
     },
     "execution_count": 45,
     "metadata": {},
     "output_type": "execute_result"
    },
    {
     "data": {
      "image/png": "[encoded data removed]",
      "text/plain": [
       "<Figure size 432x288 with 1 Axes>"
      ]
     },
     "metadata": {
      "needs_background": "light"
     },
     "output_type": "display_data"
    }
   ],
   "source": [
    "plt.scatter(check['SalePrice'], check['lasso_est'])\n",
    "plt.xlabel('log(SalePrice)')\n",
    "plt.ylabel('predicted log(SalePrice)')"
   ]
  },
  {
   "cell_type": "code",
   "execution_count": null,
   "metadata": {
    "collapsed": false
   },
   "outputs": [
    {
     "data": {
      "text/plain": [
       "Text(0, 0.5, 'predicted SalePrice')"
      ]
     },
     "execution_count": 46,
     "metadata": {},
     "output_type": "execute_result"
    },
    {
     "data": {
      "image/png": "[encoded data removed]",
      "text/plain": [
       "<Figure size 432x288 with 1 Axes>"
      ]
     },
     "metadata": {
      "needs_background": "light"
     },
     "output_type": "display_data"
    }
   ],
   "source": [
    "plt.scatter(np.exp(check['SalePrice']), np.exp(check['lasso_est']))\n",
    "plt.xlabel('SalePrice')\n",
    "plt.ylabel('predicted SalePrice')"
   ]
  }
 ],
 "metadata": {
  "anaconda-cloud": {},
  "kernelspec": {
   "display_name": "Python [default]",
   "language": "python",
   "name": "python3"
  },
  "language_info": {
   "codemirror_mode": {
    "name": "ipython",
    "version": 3
   },
   "file_extension": ".py",
   "mimetype": "text/x-python",
   "name": "python",
   "nbconvert_exporter": "python",
   "pygments_lexer": "ipython3",
   "version": "3.5.2"
  }
 },
 "nbformat": 4,
 "nbformat_minor": 1
}
