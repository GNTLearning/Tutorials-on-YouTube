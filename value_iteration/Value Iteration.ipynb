{
 "cells": [
  {
   "cell_type": "markdown",
   "metadata": {},
   "source": [
    "<div style=\"display:float\">\n",
    "  <h1 style=\"margin-top: 36px; font-size: 32px; float:left\">Reinforcement Learning: Value Iteration</h1>\n",
    "    <img style=\"vertical-align:middle; float:right\" src=\"http://gntlearning.com/wp-content/uploads/2021/05/Small_Logo-278x64.jpg\" width=250px>\n",
    "</div>"
   ]
  },
  {
   "cell_type": "code",
   "execution_count": 1,
   "metadata": {
    "collapsed": false
   },
   "outputs": [],
   "source": [
    "import numpy as np\n",
    "import gym"
   ]
  },
  {
   "cell_type": "code",
   "execution_count": 2,
   "metadata": {
    "collapsed": false
   },
   "outputs": [
    {
     "name": "stdout",
     "output_type": "stream",
     "text": [
      "\n",
      "\u001b[41mS\u001b[0mFFF\n",
      "FHFH\n",
      "FFFH\n",
      "HFFG\n"
     ]
    }
   ],
   "source": [
    "env = gym.make(\"FrozenLake-v0\")\n",
    "env.render()"
   ]
  },
  {
   "cell_type": "markdown",
   "metadata": {},
   "source": [
    "## AI Gym Basics"
   ]
  },
  {
   "cell_type": "code",
   "execution_count": 3,
   "metadata": {
    "collapsed": false
   },
   "outputs": [
    {
     "name": "stdout",
     "output_type": "stream",
     "text": [
      "  (Up)\n",
      "\u001b[41mS\u001b[0mFFF\n",
      "FHFH\n",
      "FFFH\n",
      "HFFG\n",
      "  (Up)\n",
      "\u001b[41mS\u001b[0mFFF\n",
      "FHFH\n",
      "FFFH\n",
      "HFFG\n",
      "  (Right)\n",
      "SFFF\n",
      "\u001b[41mF\u001b[0mHFH\n",
      "FFFH\n",
      "HFFG\n",
      "  (Right)\n",
      "SFFF\n",
      "F\u001b[41mH\u001b[0mFH\n",
      "FFFH\n",
      "HFFG\n"
     ]
    }
   ],
   "source": [
    "env.reset()\n",
    "for i in range(5):\n",
    "    a = env.action_space.sample()\n",
    "    s_, reward, done, _ = env.step(a)\n",
    "    env.render()\n",
    "    if done:\n",
    "        break"
   ]
  },
  {
   "cell_type": "code",
   "execution_count": 9,
   "metadata": {
    "collapsed": false
   },
   "outputs": [
    {
     "data": {
      "text/plain": [
       "[(0.3333333333333333, 0, 0.0, False),\n",
       " (0.3333333333333333, 5, 0.0, True),\n",
       " (0.3333333333333333, 2, 0.0, False)]"
      ]
     },
     "execution_count": 9,
     "metadata": {},
     "output_type": "execute_result"
    }
   ],
   "source": [
    "env.P[1][1]"
   ]
  },
  {
   "cell_type": "markdown",
   "metadata": {},
   "source": [
    "## Value Iteration"
   ]
  },
  {
   "cell_type": "markdown",
   "metadata": {},
   "source": [
    "$s$ is a state\n",
    "\n",
    "$a$ is an action take from state $s$\n",
    "\n",
    "$s'$ is the next state\n",
    "\n",
    "$a'$ is an action take from state $s'$  (not used today, just common notation)\n",
    "\n",
    "$V(s)$ is the value of a state\n",
    "\n",
    "$T(s,a,s')$ is the probability of going to state $s'$ when taking action $a$ from state $s$\n",
    "\n",
    "$R(s,a,s')$ is the reward for going from $s$ to $s'$ via $a$\n",
    "\n",
    "### $V(s) = max_a \\sum_{s'} T(s,a,s')\\left[ R(s,a,s') + \\gamma  V(s')  \\right]$"
   ]
  },
  {
   "cell_type": "code",
   "execution_count": 10,
   "metadata": {
    "collapsed": true
   },
   "outputs": [],
   "source": [
    "num_states = env.observation_space.n\n",
    "num_actions = env.action_space.n\n",
    "gamma = 0.9"
   ]
  },
  {
   "cell_type": "code",
   "execution_count": 12,
   "metadata": {
    "collapsed": false
   },
   "outputs": [
    {
     "data": {
      "text/plain": [
       "array([[0.06091716, 0.05563938, 0.07077423, 0.05193238],\n",
       "       [0.08565174, 0.        , 0.11056674, 0.        ],\n",
       "       [0.14111297, 0.24505789, 0.29811122, 0.        ],\n",
       "       [0.        , 0.37833073, 0.63825638, 0.        ]])"
      ]
     },
     "execution_count": 12,
     "metadata": {},
     "output_type": "execute_result"
    }
   ],
   "source": [
    "V = np.zeros(num_states)\n",
    "for i in range(20):\n",
    "    for s in range(num_states):\n",
    "        q = np.zeros(num_actions)\n",
    "        for a in range(num_actions):\n",
    "    #         for s_ in range(num_states):\n",
    "    #             q[a] += T[s,a,s_]*(R[s,a,s_]+gamma*V[s_])\n",
    "            for T, s_, R, _ in env.P[s][a]:\n",
    "                q[a] += T*(R+gamma*V[s_])\n",
    "        V[s] = max(q)\n",
    "V.reshape(4,4)"
   ]
  },
  {
   "cell_type": "code",
   "execution_count": 14,
   "metadata": {
    "collapsed": false
   },
   "outputs": [
    {
     "name": "stdout",
     "output_type": "stream",
     "text": [
      "[[0. 3. 0. 3.]\n",
      " [0. 0. 0. 0.]\n",
      " [3. 1. 0. 0.]\n",
      " [0. 2. 1. 0.]]\n"
     ]
    },
    {
     "data": {
      "text/plain": [
       "array([[0.06253203, 0.05606969, 0.07051342, 0.05159888],\n",
       "       [0.08603505, 0.        , 0.11007757, 0.        ],\n",
       "       [0.14066756, 0.24422494, 0.29731176, 0.        ],\n",
       "       [0.        , 0.3775274 , 0.6377414 , 0.        ]])"
      ]
     },
     "execution_count": 14,
     "metadata": {},
     "output_type": "execute_result"
    }
   ],
   "source": [
    "V = np.zeros(num_states)\n",
    "policy = np.zeros(num_states)\n",
    "V_old = -1*np.ones(num_states)\n",
    "while (np.abs(V-V_old)).max() > 1e-3:\n",
    "    V_old = V.copy()\n",
    "    for s in range(num_states):\n",
    "        q = np.zeros(num_actions)\n",
    "        for a in range(num_actions):\n",
    "            for T, s_, R, _ in env.P[s][a]:\n",
    "                q[a] += T*(R+gamma*V_old[s_])\n",
    "        V[s] = max(q)\n",
    "        policy[s] = np.argmax(q)\n",
    "        \n",
    "print(policy.reshape(4,4))\n",
    "V.reshape(4,4)"
   ]
  },
  {
   "cell_type": "code",
   "execution_count": 15,
   "metadata": {
    "collapsed": false
   },
   "outputs": [
    {
     "name": "stdout",
     "output_type": "stream",
     "text": [
      "  (Right)\n",
      "SFFF\n",
      "F\u001b[41mH\u001b[0mFH\n",
      "FFFH\n",
      "HFFG\n"
     ]
    },
    {
     "data": {
      "text/plain": [
       "array([['<', '^', '<', '^'],\n",
       "       ['<', '<', '<', '<'],\n",
       "       ['^', 'v', '<', '<'],\n",
       "       ['<', '>', 'v', '<']], dtype='<U1')"
      ]
     },
     "execution_count": 15,
     "metadata": {},
     "output_type": "execute_result"
    }
   ],
   "source": [
    "action_names = ['<', 'v', '>', '^']\n",
    "env.render()\n",
    "np.array([action_names[int(i)] for i in policy]).reshape(4,4)"
   ]
  }
 ],
 "metadata": {
  "anaconda-cloud": {},
  "kernelspec": {
   "display_name": "Python [default]",
   "language": "python",
   "name": "python3"
  },
  "language_info": {
   "codemirror_mode": {
    "name": "ipython",
    "version": 3
   },
   "file_extension": ".py",
   "mimetype": "text/x-python",
   "name": "python",
   "nbconvert_exporter": "python",
   "pygments_lexer": "ipython3",
   "version": "3.5.2"
  }
 },
 "nbformat": 4,
 "nbformat_minor": 1
}
